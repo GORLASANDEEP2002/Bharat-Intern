{
  "nbformat": 4,
  "nbformat_minor": 0,
  "metadata": {
    "colab": {
      "provenance": [],
      "authorship_tag": "ABX9TyNrSg6222uMKEOqnBv+nfAF",
      "include_colab_link": true
    },
    "kernelspec": {
      "name": "python3",
      "display_name": "Python 3"
    },
    "language_info": {
      "name": "python"
    }
  },
  "cells": [
    {
      "cell_type": "markdown",
      "metadata": {
        "id": "view-in-github",
        "colab_type": "text"
      },
      "source": [
        "<a href=\"https://colab.research.google.com/github/GORLASANDEEP2002/Bharat-Intern/blob/main/SMS_Classifier.ipynb\" target=\"_parent\"><img src=\"https://colab.research.google.com/assets/colab-badge.svg\" alt=\"Open In Colab\"/></a>"
      ]
    },
    {
      "cell_type": "code",
      "source": [
        "import pandas as pd\n",
        "import numpy as np\n",
        "from sklearn.model_selection import train_test_split\n",
        "from sklearn.feature_extraction.text import TfidfVectorizer\n",
        "from sklearn.linear_model import LogisticRegression\n",
        "from sklearn.metrics import accuracy_score"
      ],
      "metadata": {
        "id": "rCdjnKAtr5cq"
      },
      "execution_count": 17,
      "outputs": []
    },
    {
      "cell_type": "code",
      "source": [
        "df=pd.read_csv('/content/sms_spam.csv')"
      ],
      "metadata": {
        "id": "UljsLDnkr5ZL"
      },
      "execution_count": 18,
      "outputs": []
    },
    {
      "cell_type": "code",
      "source": [
        "print(df)"
      ],
      "metadata": {
        "colab": {
          "base_uri": "https://localhost:8080/"
        },
        "id": "kj2k-6t0r5WU",
        "outputId": "75ec8609-e2a6-4208-a0f7-a8fb026e2a44"
      },
      "execution_count": 19,
      "outputs": [
        {
          "output_type": "stream",
          "name": "stdout",
          "text": [
            "      type                                               text\n",
            "0      ham  Hope you are having a good week. Just checking in\n",
            "1      ham                            K..give back my thanks.\n",
            "2      ham        Am also doing in cbe only. But have to pay.\n",
            "3     spam  complimentary 4 STAR Ibiza Holiday or £10,000 ...\n",
            "4     spam  okmail: Dear Dave this is your final notice to...\n",
            "...    ...                                                ...\n",
            "5554   ham  You are a great role model. You are giving so ...\n",
            "5555   ham  Awesome, I remember the last time we got someb...\n",
            "5556  spam  If you don't, your prize will go to another cu...\n",
            "5557  spam  SMS. ac JSco: Energy is high, but u may not kn...\n",
            "5558   ham                    Shall call now dear having food\n",
            "\n",
            "[5559 rows x 2 columns]\n"
          ]
        }
      ]
    },
    {
      "cell_type": "code",
      "source": [
        "data=df.where((pd.notnull(df)),'')"
      ],
      "metadata": {
        "id": "Tl7xNL68r5T4"
      },
      "execution_count": 20,
      "outputs": []
    },
    {
      "cell_type": "code",
      "source": [
        "data.head()"
      ],
      "metadata": {
        "colab": {
          "base_uri": "https://localhost:8080/",
          "height": 206
        },
        "id": "OTD_taMYr5RZ",
        "outputId": "6742273c-5dfc-4c80-c3af-dfa7050f7f5f"
      },
      "execution_count": 21,
      "outputs": [
        {
          "output_type": "execute_result",
          "data": {
            "text/plain": [
              "   type                                               text\n",
              "0   ham  Hope you are having a good week. Just checking in\n",
              "1   ham                            K..give back my thanks.\n",
              "2   ham        Am also doing in cbe only. But have to pay.\n",
              "3  spam  complimentary 4 STAR Ibiza Holiday or £10,000 ...\n",
              "4  spam  okmail: Dear Dave this is your final notice to..."
            ],
            "text/html": [
              "\n",
              "  <div id=\"df-c18daf90-89dc-4d8f-9c21-6906c71d2c28\" class=\"colab-df-container\">\n",
              "    <div>\n",
              "<style scoped>\n",
              "    .dataframe tbody tr th:only-of-type {\n",
              "        vertical-align: middle;\n",
              "    }\n",
              "\n",
              "    .dataframe tbody tr th {\n",
              "        vertical-align: top;\n",
              "    }\n",
              "\n",
              "    .dataframe thead th {\n",
              "        text-align: right;\n",
              "    }\n",
              "</style>\n",
              "<table border=\"1\" class=\"dataframe\">\n",
              "  <thead>\n",
              "    <tr style=\"text-align: right;\">\n",
              "      <th></th>\n",
              "      <th>type</th>\n",
              "      <th>text</th>\n",
              "    </tr>\n",
              "  </thead>\n",
              "  <tbody>\n",
              "    <tr>\n",
              "      <th>0</th>\n",
              "      <td>ham</td>\n",
              "      <td>Hope you are having a good week. Just checking in</td>\n",
              "    </tr>\n",
              "    <tr>\n",
              "      <th>1</th>\n",
              "      <td>ham</td>\n",
              "      <td>K..give back my thanks.</td>\n",
              "    </tr>\n",
              "    <tr>\n",
              "      <th>2</th>\n",
              "      <td>ham</td>\n",
              "      <td>Am also doing in cbe only. But have to pay.</td>\n",
              "    </tr>\n",
              "    <tr>\n",
              "      <th>3</th>\n",
              "      <td>spam</td>\n",
              "      <td>complimentary 4 STAR Ibiza Holiday or £10,000 ...</td>\n",
              "    </tr>\n",
              "    <tr>\n",
              "      <th>4</th>\n",
              "      <td>spam</td>\n",
              "      <td>okmail: Dear Dave this is your final notice to...</td>\n",
              "    </tr>\n",
              "  </tbody>\n",
              "</table>\n",
              "</div>\n",
              "    <div class=\"colab-df-buttons\">\n",
              "\n",
              "  <div class=\"colab-df-container\">\n",
              "    <button class=\"colab-df-convert\" onclick=\"convertToInteractive('df-c18daf90-89dc-4d8f-9c21-6906c71d2c28')\"\n",
              "            title=\"Convert this dataframe to an interactive table.\"\n",
              "            style=\"display:none;\">\n",
              "\n",
              "  <svg xmlns=\"http://www.w3.org/2000/svg\" height=\"24px\" viewBox=\"0 -960 960 960\">\n",
              "    <path d=\"M120-120v-720h720v720H120Zm60-500h600v-160H180v160Zm220 220h160v-160H400v160Zm0 220h160v-160H400v160ZM180-400h160v-160H180v160Zm440 0h160v-160H620v160ZM180-180h160v-160H180v160Zm440 0h160v-160H620v160Z\"/>\n",
              "  </svg>\n",
              "    </button>\n",
              "\n",
              "  <style>\n",
              "    .colab-df-container {\n",
              "      display:flex;\n",
              "      gap: 12px;\n",
              "    }\n",
              "\n",
              "    .colab-df-convert {\n",
              "      background-color: #E8F0FE;\n",
              "      border: none;\n",
              "      border-radius: 50%;\n",
              "      cursor: pointer;\n",
              "      display: none;\n",
              "      fill: #1967D2;\n",
              "      height: 32px;\n",
              "      padding: 0 0 0 0;\n",
              "      width: 32px;\n",
              "    }\n",
              "\n",
              "    .colab-df-convert:hover {\n",
              "      background-color: #E2EBFA;\n",
              "      box-shadow: 0px 1px 2px rgba(60, 64, 67, 0.3), 0px 1px 3px 1px rgba(60, 64, 67, 0.15);\n",
              "      fill: #174EA6;\n",
              "    }\n",
              "\n",
              "    .colab-df-buttons div {\n",
              "      margin-bottom: 4px;\n",
              "    }\n",
              "\n",
              "    [theme=dark] .colab-df-convert {\n",
              "      background-color: #3B4455;\n",
              "      fill: #D2E3FC;\n",
              "    }\n",
              "\n",
              "    [theme=dark] .colab-df-convert:hover {\n",
              "      background-color: #434B5C;\n",
              "      box-shadow: 0px 1px 3px 1px rgba(0, 0, 0, 0.15);\n",
              "      filter: drop-shadow(0px 1px 2px rgba(0, 0, 0, 0.3));\n",
              "      fill: #FFFFFF;\n",
              "    }\n",
              "  </style>\n",
              "\n",
              "    <script>\n",
              "      const buttonEl =\n",
              "        document.querySelector('#df-c18daf90-89dc-4d8f-9c21-6906c71d2c28 button.colab-df-convert');\n",
              "      buttonEl.style.display =\n",
              "        google.colab.kernel.accessAllowed ? 'block' : 'none';\n",
              "\n",
              "      async function convertToInteractive(key) {\n",
              "        const element = document.querySelector('#df-c18daf90-89dc-4d8f-9c21-6906c71d2c28');\n",
              "        const dataTable =\n",
              "          await google.colab.kernel.invokeFunction('convertToInteractive',\n",
              "                                                    [key], {});\n",
              "        if (!dataTable) return;\n",
              "\n",
              "        const docLinkHtml = 'Like what you see? Visit the ' +\n",
              "          '<a target=\"_blank\" href=https://colab.research.google.com/notebooks/data_table.ipynb>data table notebook</a>'\n",
              "          + ' to learn more about interactive tables.';\n",
              "        element.innerHTML = '';\n",
              "        dataTable['output_type'] = 'display_data';\n",
              "        await google.colab.output.renderOutput(dataTable, element);\n",
              "        const docLink = document.createElement('div');\n",
              "        docLink.innerHTML = docLinkHtml;\n",
              "        element.appendChild(docLink);\n",
              "      }\n",
              "    </script>\n",
              "  </div>\n",
              "\n",
              "\n",
              "<div id=\"df-cce08826-9e1a-4847-b263-f465f76a56a0\">\n",
              "  <button class=\"colab-df-quickchart\" onclick=\"quickchart('df-cce08826-9e1a-4847-b263-f465f76a56a0')\"\n",
              "            title=\"Suggest charts\"\n",
              "            style=\"display:none;\">\n",
              "\n",
              "<svg xmlns=\"http://www.w3.org/2000/svg\" height=\"24px\"viewBox=\"0 0 24 24\"\n",
              "     width=\"24px\">\n",
              "    <g>\n",
              "        <path d=\"M19 3H5c-1.1 0-2 .9-2 2v14c0 1.1.9 2 2 2h14c1.1 0 2-.9 2-2V5c0-1.1-.9-2-2-2zM9 17H7v-7h2v7zm4 0h-2V7h2v10zm4 0h-2v-4h2v4z\"/>\n",
              "    </g>\n",
              "</svg>\n",
              "  </button>\n",
              "\n",
              "<style>\n",
              "  .colab-df-quickchart {\n",
              "      --bg-color: #E8F0FE;\n",
              "      --fill-color: #1967D2;\n",
              "      --hover-bg-color: #E2EBFA;\n",
              "      --hover-fill-color: #174EA6;\n",
              "      --disabled-fill-color: #AAA;\n",
              "      --disabled-bg-color: #DDD;\n",
              "  }\n",
              "\n",
              "  [theme=dark] .colab-df-quickchart {\n",
              "      --bg-color: #3B4455;\n",
              "      --fill-color: #D2E3FC;\n",
              "      --hover-bg-color: #434B5C;\n",
              "      --hover-fill-color: #FFFFFF;\n",
              "      --disabled-bg-color: #3B4455;\n",
              "      --disabled-fill-color: #666;\n",
              "  }\n",
              "\n",
              "  .colab-df-quickchart {\n",
              "    background-color: var(--bg-color);\n",
              "    border: none;\n",
              "    border-radius: 50%;\n",
              "    cursor: pointer;\n",
              "    display: none;\n",
              "    fill: var(--fill-color);\n",
              "    height: 32px;\n",
              "    padding: 0;\n",
              "    width: 32px;\n",
              "  }\n",
              "\n",
              "  .colab-df-quickchart:hover {\n",
              "    background-color: var(--hover-bg-color);\n",
              "    box-shadow: 0 1px 2px rgba(60, 64, 67, 0.3), 0 1px 3px 1px rgba(60, 64, 67, 0.15);\n",
              "    fill: var(--button-hover-fill-color);\n",
              "  }\n",
              "\n",
              "  .colab-df-quickchart-complete:disabled,\n",
              "  .colab-df-quickchart-complete:disabled:hover {\n",
              "    background-color: var(--disabled-bg-color);\n",
              "    fill: var(--disabled-fill-color);\n",
              "    box-shadow: none;\n",
              "  }\n",
              "\n",
              "  .colab-df-spinner {\n",
              "    border: 2px solid var(--fill-color);\n",
              "    border-color: transparent;\n",
              "    border-bottom-color: var(--fill-color);\n",
              "    animation:\n",
              "      spin 1s steps(1) infinite;\n",
              "  }\n",
              "\n",
              "  @keyframes spin {\n",
              "    0% {\n",
              "      border-color: transparent;\n",
              "      border-bottom-color: var(--fill-color);\n",
              "      border-left-color: var(--fill-color);\n",
              "    }\n",
              "    20% {\n",
              "      border-color: transparent;\n",
              "      border-left-color: var(--fill-color);\n",
              "      border-top-color: var(--fill-color);\n",
              "    }\n",
              "    30% {\n",
              "      border-color: transparent;\n",
              "      border-left-color: var(--fill-color);\n",
              "      border-top-color: var(--fill-color);\n",
              "      border-right-color: var(--fill-color);\n",
              "    }\n",
              "    40% {\n",
              "      border-color: transparent;\n",
              "      border-right-color: var(--fill-color);\n",
              "      border-top-color: var(--fill-color);\n",
              "    }\n",
              "    60% {\n",
              "      border-color: transparent;\n",
              "      border-right-color: var(--fill-color);\n",
              "    }\n",
              "    80% {\n",
              "      border-color: transparent;\n",
              "      border-right-color: var(--fill-color);\n",
              "      border-bottom-color: var(--fill-color);\n",
              "    }\n",
              "    90% {\n",
              "      border-color: transparent;\n",
              "      border-bottom-color: var(--fill-color);\n",
              "    }\n",
              "  }\n",
              "</style>\n",
              "\n",
              "  <script>\n",
              "    async function quickchart(key) {\n",
              "      const quickchartButtonEl =\n",
              "        document.querySelector('#' + key + ' button');\n",
              "      quickchartButtonEl.disabled = true;  // To prevent multiple clicks.\n",
              "      quickchartButtonEl.classList.add('colab-df-spinner');\n",
              "      try {\n",
              "        const charts = await google.colab.kernel.invokeFunction(\n",
              "            'suggestCharts', [key], {});\n",
              "      } catch (error) {\n",
              "        console.error('Error during call to suggestCharts:', error);\n",
              "      }\n",
              "      quickchartButtonEl.classList.remove('colab-df-spinner');\n",
              "      quickchartButtonEl.classList.add('colab-df-quickchart-complete');\n",
              "    }\n",
              "    (() => {\n",
              "      let quickchartButtonEl =\n",
              "        document.querySelector('#df-cce08826-9e1a-4847-b263-f465f76a56a0 button');\n",
              "      quickchartButtonEl.style.display =\n",
              "        google.colab.kernel.accessAllowed ? 'block' : 'none';\n",
              "    })();\n",
              "  </script>\n",
              "</div>\n",
              "\n",
              "    </div>\n",
              "  </div>\n"
            ],
            "application/vnd.google.colaboratory.intrinsic+json": {
              "type": "dataframe",
              "variable_name": "data",
              "summary": "{\n  \"name\": \"data\",\n  \"rows\": 5559,\n  \"fields\": [\n    {\n      \"column\": \"type\",\n      \"properties\": {\n        \"dtype\": \"category\",\n        \"num_unique_values\": 2,\n        \"samples\": [\n          \"spam\",\n          \"ham\"\n        ],\n        \"semantic_type\": \"\",\n        \"description\": \"\"\n      }\n    },\n    {\n      \"column\": \"text\",\n      \"properties\": {\n        \"dtype\": \"string\",\n        \"num_unique_values\": 5156,\n        \"samples\": [\n          \"Thnx dude. u guys out 2nite?\",\n          \"How i noe... She's in da car now... Later then c lar... I'm wearing shorts...\"\n        ],\n        \"semantic_type\": \"\",\n        \"description\": \"\"\n      }\n    }\n  ]\n}"
            }
          },
          "metadata": {},
          "execution_count": 21
        }
      ]
    },
    {
      "cell_type": "code",
      "source": [
        "data.shape"
      ],
      "metadata": {
        "colab": {
          "base_uri": "https://localhost:8080/"
        },
        "id": "I-mtbd-5r5Oi",
        "outputId": "cea96aa5-0c01-4683-c892-40580593e35d"
      },
      "execution_count": 22,
      "outputs": [
        {
          "output_type": "execute_result",
          "data": {
            "text/plain": [
              "(5559, 2)"
            ]
          },
          "metadata": {},
          "execution_count": 22
        }
      ]
    },
    {
      "cell_type": "code",
      "source": [
        "# Check if 'Category' column exists in your DataFrame\n",
        "if 'Category' in data.columns:\n",
        "    data.loc[data['Category'] == 'spam', 'Category'] = 0\n",
        "    data.loc[data['Category'] == 'ham', 'Category'] = 1\n",
        "else:\n",
        "    print(\"Column 'Category' not found in the DataFrame.\")\n",
        "    # Further investigation needed to find out why the column is missing."
      ],
      "metadata": {
        "colab": {
          "base_uri": "https://localhost:8080/"
        },
        "id": "FnAxY7czr5L5",
        "outputId": "aeef5bcf-7be6-4918-8c01-048fdfe57fcf"
      },
      "execution_count": 24,
      "outputs": [
        {
          "output_type": "stream",
          "name": "stdout",
          "text": [
            "Column 'Category' not found in the DataFrame.\n"
          ]
        }
      ]
    },
    {
      "cell_type": "code",
      "source": [
        "print(data.columns)  # Verify if 'Message' is in the columns\n",
        "\n",
        "if 'Message' in data.columns:\n",
        "    x = data['Message']\n",
        "    y = data['Category']\n",
        "else:\n",
        "    print(\"Column 'Message' not found. Check your data.\")"
      ],
      "metadata": {
        "colab": {
          "base_uri": "https://localhost:8080/"
        },
        "id": "4_KTowPar5JN",
        "outputId": "12ac3bf8-01e4-4fc8-ceae-763a99cf106e"
      },
      "execution_count": 27,
      "outputs": [
        {
          "output_type": "stream",
          "name": "stdout",
          "text": [
            "Index(['type', 'text'], dtype='object')\n",
            "Column 'Message' not found. Check your data.\n"
          ]
        }
      ]
    },
    {
      "cell_type": "code",
      "source": [
        "print(data.columns)  # Verify if 'Message' is in the columns\n",
        "\n",
        "if 'Message' in data.columns:\n",
        "    x = data['Message']\n",
        "    y = data['Category']\n",
        "    print(x) # Moved the print statement inside the conditional block\n",
        "else:\n",
        "    print(\"Column 'Message' not found. Check your data.\")"
      ],
      "metadata": {
        "colab": {
          "base_uri": "https://localhost:8080/"
        },
        "id": "x1ZuBq1xsWdC",
        "outputId": "435116e3-cf48-4512-da7d-547a58ce088a"
      },
      "execution_count": 29,
      "outputs": [
        {
          "output_type": "stream",
          "name": "stdout",
          "text": [
            "Index(['type', 'text'], dtype='object')\n",
            "Column 'Message' not found. Check your data.\n"
          ]
        }
      ]
    },
    {
      "cell_type": "code",
      "source": [
        "print(data.columns)  # Check the columns of your DataFrame\n",
        "\n",
        "if 'Message' in data.columns and 'Category' in data.columns: # Check if both columns exist\n",
        "    x = data['Message']\n",
        "    y = data['Category']\n",
        "    print(y)\n",
        "else:\n",
        "    if 'Message' not in data.columns:\n",
        "        print(\"Column 'Message' not found. Check your data.\")\n",
        "    if 'Category' not in data.columns:\n",
        "        print(\"Column 'Category' not found. Check your data.\")"
      ],
      "metadata": {
        "colab": {
          "base_uri": "https://localhost:8080/"
        },
        "id": "vx3qWe8rsX-J",
        "outputId": "f40f0c9e-6a48-45f4-cd8f-bbd8abed4497"
      },
      "execution_count": 31,
      "outputs": [
        {
          "output_type": "stream",
          "name": "stdout",
          "text": [
            "Index(['type', 'text'], dtype='object')\n",
            "Column 'Message' not found. Check your data.\n",
            "Column 'Category' not found. Check your data.\n"
          ]
        }
      ]
    },
    {
      "cell_type": "code",
      "source": [
        "print(data.columns)  # Check the columns of your DataFrame\n",
        "\n",
        "if 'Message' in data.columns and 'Category' in data.columns: # Check if both columns exist\n",
        "    x = data['Message']\n",
        "    y = data['Category']\n",
        "    print(x.shape) # Now you can print x.shape\n",
        "else:\n",
        "    if 'Message' not in data.columns:\n",
        "        print(\"Column 'Message' not found. Check your data.\")\n",
        "    if 'Category' not in data.columns:\n",
        "        print(\"Column 'Category' not found. Check your data.\")"
      ],
      "metadata": {
        "colab": {
          "base_uri": "https://localhost:8080/"
        },
        "id": "GtgARkoBsX0z",
        "outputId": "fcda4cf6-1eb9-4b7c-a8cc-3c5d1729a427"
      },
      "execution_count": 33,
      "outputs": [
        {
          "output_type": "stream",
          "name": "stdout",
          "text": [
            "Index(['type', 'text'], dtype='object')\n",
            "Column 'Message' not found. Check your data.\n",
            "Column 'Category' not found. Check your data.\n"
          ]
        }
      ]
    },
    {
      "cell_type": "code",
      "source": [
        "!pip install scikit-learn\n",
        "from sklearn.feature_extraction.text import TfidfVectorizer\n",
        "\n",
        "# Make sure 'data' is defined and contains the 'Message' column\n",
        "# Example:\n",
        "# data = pd.DataFrame({'Message': ['Hello', 'World'], 'Category': [0, 1]})\n",
        "\n",
        "if 'Message' in data.columns:\n",
        "    x = data['Message']  # Now 'x' is defined\n",
        "    x_train = x\n",
        "    # ... rest of your code\n",
        "else:\n",
        "    print(\"Column 'Message' not found. Check your data.\")"
      ],
      "metadata": {
        "colab": {
          "base_uri": "https://localhost:8080/"
        },
        "id": "uWdyiuIMsXxZ",
        "outputId": "de641d17-183f-4c33-d1f8-7257484842d1"
      },
      "execution_count": 36,
      "outputs": [
        {
          "output_type": "stream",
          "name": "stdout",
          "text": [
            "Requirement already satisfied: scikit-learn in /usr/local/lib/python3.10/dist-packages (1.2.2)\n",
            "Requirement already satisfied: numpy>=1.17.3 in /usr/local/lib/python3.10/dist-packages (from scikit-learn) (1.25.2)\n",
            "Requirement already satisfied: scipy>=1.3.2 in /usr/local/lib/python3.10/dist-packages (from scikit-learn) (1.11.4)\n",
            "Requirement already satisfied: joblib>=1.1.1 in /usr/local/lib/python3.10/dist-packages (from scikit-learn) (1.4.2)\n",
            "Requirement already satisfied: threadpoolctl>=2.0.0 in /usr/local/lib/python3.10/dist-packages (from scikit-learn) (3.5.0)\n",
            "Column 'Message' not found. Check your data.\n"
          ]
        }
      ]
    },
    {
      "cell_type": "code",
      "source": [
        "# First, make sure 'data' is defined and has a 'Message' column.\n",
        "# Example:\n",
        "data = pd.DataFrame({'Message': ['Hello', 'World'], 'Category': [0, 1]})\n",
        "\n",
        "if 'Message' in data.columns:\n",
        "    x = data['Message']\n",
        "    x_train = x\n",
        "    print(globals()['x_train']) # Now this should work\n",
        "else:\n",
        "    print(\"Column 'Message' not found. Check your data.\")"
      ],
      "metadata": {
        "colab": {
          "base_uri": "https://localhost:8080/"
        },
        "id": "kKHsjnPHsvaV",
        "outputId": "1b099b1e-f901-4286-9d8c-0b9fb04d595d"
      },
      "execution_count": 38,
      "outputs": [
        {
          "output_type": "stream",
          "name": "stdout",
          "text": [
            "0    Hello\n",
            "1    World\n",
            "Name: Message, dtype: object\n"
          ]
        }
      ]
    },
    {
      "cell_type": "code",
      "source": [
        "# First, make sure 'data' is defined and has a 'Message' column.\n",
        "# Example:\n",
        "data = pd.DataFrame({'Message': ['Hello', 'World'], 'Category': [0, 1]})\n",
        "\n",
        "if 'Message' in data.columns:\n",
        "    x = data['Message']\n",
        "    x_train = x\n",
        "\n",
        "    # Assuming you want to create x_train_features using TfidfVectorizer\n",
        "    from sklearn.feature_extraction.text import TfidfVectorizer\n",
        "    vectorizer = TfidfVectorizer()\n",
        "    x_train_features = vectorizer.fit_transform(x_train)  # Create x_train_features\n",
        "\n",
        "    print(x_train_features)  # Now this should work\n",
        "else:\n",
        "    print(\"Column 'Message' not found. Check your data.\")"
      ],
      "metadata": {
        "colab": {
          "base_uri": "https://localhost:8080/"
        },
        "id": "F_IVRGJzsvXB",
        "outputId": "a2535101-bd34-4632-b7ba-00e0e0e18376"
      },
      "execution_count": 40,
      "outputs": [
        {
          "output_type": "stream",
          "name": "stdout",
          "text": [
            "  (0, 0)\t1.0\n",
            "  (1, 1)\t1.0\n"
          ]
        }
      ]
    },
    {
      "cell_type": "code",
      "source": [
        "model=LogisticRegression()"
      ],
      "metadata": {
        "id": "qrNNw38csvU4"
      },
      "execution_count": 41,
      "outputs": []
    },
    {
      "cell_type": "code",
      "source": [
        "# First, make sure 'data' is defined and has a 'Message' and a 'Category' column (or whatever your target variable column is named).\n",
        "# Example:\n",
        "data = pd.DataFrame({'Message': ['Hello', 'World'], 'Category': [0, 1]})\n",
        "\n",
        "if 'Message' in data.columns:\n",
        "    x = data['Message']\n",
        "    x_train = x\n",
        "\n",
        "    # Assuming 'Category' is your target variable column\n",
        "    if 'Category' in data.columns:\n",
        "        y_train = data['Category']  # Define y_train\n",
        "\n",
        "        # Assuming you want to create x_train_features using TfidfVectorizer\n",
        "        from sklearn.feature_extraction.text import TfidfVectorizer\n",
        "        vectorizer = TfidfVectorizer()\n",
        "        x_train_features = vectorizer.fit_transform(x_train)  # Create x_train_features\n",
        "\n",
        "        from sklearn.linear_model import LogisticRegression # Import LogisticRegression\n",
        "        model = LogisticRegression()\n",
        "        model.fit(x_train_features,y_train) # Now this should work\n",
        "    else:\n",
        "        print(\"Column 'Category' not found. Check your data.\")\n",
        "else:\n",
        "    print(\"Column 'Message' not found. Check your data.\")"
      ],
      "metadata": {
        "id": "5d6SJweMuOR2"
      },
      "execution_count": 43,
      "outputs": []
    },
    {
      "cell_type": "code",
      "source": [
        "prediction_on_training_data=model.predict(x_train_features)\n",
        "accuracy_on_training_data=accuracy_score(y_train,prediction_on_training_data)"
      ],
      "metadata": {
        "id": "P_yS4JpXsvR8"
      },
      "execution_count": 44,
      "outputs": []
    },
    {
      "cell_type": "code",
      "source": [],
      "metadata": {
        "id": "xFMwqiattNMo"
      },
      "execution_count": 44,
      "outputs": []
    },
    {
      "cell_type": "code",
      "source": [
        "print('Acc on training data:',accuracy_on_training_data)"
      ],
      "metadata": {
        "colab": {
          "base_uri": "https://localhost:8080/"
        },
        "id": "GOQ_u9wNtNJL",
        "outputId": "e66825ed-d6d9-4847-f736-c8fe829111ae"
      },
      "execution_count": 45,
      "outputs": [
        {
          "output_type": "stream",
          "name": "stdout",
          "text": [
            "Acc on training data: 1.0\n"
          ]
        }
      ]
    },
    {
      "cell_type": "code",
      "source": [
        "# Assuming you have your test data in a DataFrame called 'test_data'\n",
        "# First, you need to define or load your test data into the 'test_data' variable.\n",
        "# For example, if your test data is in a CSV file:\n",
        "test_data = pd.read_csv('/content/sms_spam.csv')  # Replace 'path_to_your_test_data.csv' with the actual path\n",
        "\n",
        "if 'Message' in test_data.columns:\n",
        "    x_test = test_data['Message']\n",
        "    x_test_features = vectorizer.transform(x_test)  # Use the same vectorizer to transform test data\n",
        "\n",
        "    prediction_on_test_data = model.predict(x_test_features)\n",
        "    # ... rest of your code\n",
        "else:\n",
        "    print(\"Column 'Message' not found in test data. Check your data.\")"
      ],
      "metadata": {
        "id": "Ek8doyzYGcdk",
        "colab": {
          "base_uri": "https://localhost:8080/"
        },
        "outputId": "1cd104c6-9be7-471c-cef7-6b9f39ed12da"
      },
      "execution_count": 49,
      "outputs": [
        {
          "output_type": "stream",
          "name": "stdout",
          "text": [
            "Column 'Message' not found in test data. Check your data.\n"
          ]
        }
      ]
    },
    {
      "cell_type": "code",
      "source": [
        "# Assuming you have your test data in a DataFrame called 'test_data'\n",
        "# First, you need to define or load your test data into the 'test_data' variable.\n",
        "# For example, if your test data is in a CSV file:\n",
        "test_data = pd.read_csv('/content/sms_spam.csv')  # Replace 'path_to_your_test_data.csv' with the actual path\n",
        "\n",
        "if 'Message' in test_data.columns:\n",
        "    x_test = test_data['Message']\n",
        "    x_test_features = vectorizer.transform(x_test)  # Use the same vectorizer to transform test data\n",
        "\n",
        "    prediction_on_test_data = model.predict(x_test_features)\n",
        "\n",
        "    # Calculate accuracy on test data\n",
        "    accuracy_on_test_data = accuracy_score(y_test, prediction_on_test_data)  # Assuming 'y_test' contains the true labels for the test data\n",
        "\n",
        "    print('Accuracy on test data:', accuracy_on_test_data)\n",
        "else:\n",
        "    print(\"Column 'Message' not found in test data. Check your data.\")"
      ],
      "metadata": {
        "colab": {
          "base_uri": "https://localhost:8080/"
        },
        "id": "pbWOb6qUtNDo",
        "outputId": "b4a08bb3-7e17-438a-d8a1-c566ad8d8f69"
      },
      "execution_count": 51,
      "outputs": [
        {
          "output_type": "stream",
          "name": "stdout",
          "text": [
            "Column 'Message' not found in test data. Check your data.\n"
          ]
        }
      ]
    },
    {
      "cell_type": "code",
      "source": [
        "# Assuming 'feature_extraction' is your TfidfVectorizer and 'x_train' is your training data\n",
        "feature_extraction.fit(x_train)  # Fit the vectorizer to your training data\n",
        "\n",
        "input_your_mail = [\"Your free ringtone is waiting to be collected. Simply text the password \"\"MIX\"\" to 85069 to verify. Get Usher and Britney. FML, PO Box 5249, MK17 92H. 450Ppw 16\"]\n",
        "\n",
        "input_data_features=feature_extraction.transform(input_your_mail)\n",
        "\n",
        "prediction = model.predict(input_data_features)\n",
        "\n",
        "print(prediction)\n",
        "\n",
        "if (prediction[0]==1):\n",
        "  print('ham mail')\n",
        "else:\n",
        "  print('spam mail')"
      ],
      "metadata": {
        "colab": {
          "base_uri": "https://localhost:8080/"
        },
        "id": "VMgfvtxctNAx",
        "outputId": "32796570-f89f-4565-b7c8-16c220ff6efe"
      },
      "execution_count": 53,
      "outputs": [
        {
          "output_type": "stream",
          "name": "stdout",
          "text": [
            "[0]\n",
            "spam mail\n"
          ]
        }
      ]
    },
    {
      "cell_type": "code",
      "source": [
        "input_your_mail = [\"what are you doing?How are you?\"]\n",
        "\n",
        "input_data_features=feature_extraction.transform(input_your_mail)\n",
        "\n",
        "prediction = model.predict(input_data_features)\n",
        "\n",
        "print(prediction)\n",
        "\n",
        "if (prediction[0]==1):\n",
        "  print('ham mail')\n",
        "else:\n",
        "  print('spam mail')"
      ],
      "metadata": {
        "colab": {
          "base_uri": "https://localhost:8080/"
        },
        "id": "WMebORzstM-D",
        "outputId": "3c897d6f-eae4-4588-c3ff-d74e0c25624b"
      },
      "execution_count": 54,
      "outputs": [
        {
          "output_type": "stream",
          "name": "stdout",
          "text": [
            "[0]\n",
            "spam mail\n"
          ]
        }
      ]
    }
  ]
}